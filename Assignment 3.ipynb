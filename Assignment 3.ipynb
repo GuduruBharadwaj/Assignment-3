{
 "cells": [
  {
   "cell_type": "code",
   "execution_count": 1,
   "metadata": {},
   "outputs": [
    {
     "name": "stdout",
     "output_type": "stream",
     "text": [
      "exception info : division by zero\n",
      "zero division error handeled\n"
     ]
    }
   ],
   "source": [
    "# Write a function to compute 5/0 and use try/except to catch the exceptions\n",
    "\n",
    "try:\n",
    "    x=5/0\n",
    "except ZeroDivisionError as m:\n",
    "    print(\"exception info :\",m)\n",
    "    print(\"zero division error handeled\")\n",
    "    "
   ]
  },
  {
   "cell_type": "code",
   "execution_count": 8,
   "metadata": {},
   "outputs": [],
   "source": [
    "#Implement a Python program to generate all sentences where subject is in [\"Americans\", \"Indians\"] and verb is in [\"Play\", \"watch\"] and the object is in [\"Baseball\",\"cricket\"]. Hint: Subject,Verb and Object should be declared in the program as shown below. subjects=[\"Americans \",\"Indians\"] verbs=[\"play\",\"watch\"] objects=[\"Baseball\",\"Cricket\"]\n",
    "\n",
    "        \n",
    "        "
   ]
  },
  {
   "cell_type": "code",
   "execution_count": 7,
   "metadata": {},
   "outputs": [
    {
     "name": "stdout",
     "output_type": "stream",
     "text": [
      "Americans  play Baseball\n",
      "Americans  play Cricket\n",
      "Americans  watch Baseball\n",
      "Americans  watch Cricket\n",
      "Indians play Baseball\n",
      "Indians play Cricket\n",
      "Indians watch Baseball\n",
      "Indians watch Cricket\n"
     ]
    }
   ],
   "source": [
    "subjects=[\"Americans \",\"Indians\"]\n",
    "verbs=[\"play\",\"watch\"] \n",
    "objects=[\"Baseball\",\"Cricket\"]\n",
    "def inputs(subjects,verbs,objects):\n",
    "    for s in subjects:\n",
    "        for v in verbs:\n",
    "            for o in objects:\n",
    "                res=s+\" \"+v+\" \"+o\n",
    "                yield res\n",
    "out=inputs(subjects,verbs,objects)\n",
    "for ele in out :\n",
    "    print(ele)"
   ]
  },
  {
   "cell_type": "code",
   "execution_count": 12,
   "metadata": {},
   "outputs": [
    {
     "name": "stdout",
     "output_type": "stream",
     "text": [
      "[[1, 1, 1], [1, 5, 25], [1, 7, 49], [1, 9, 81]]\n",
      "[[1, 1, 1], [25, 5, 1], [49, 7, 1], [81, 9, 1]]\n"
     ]
    }
   ],
   "source": [
    "#  Write a function so that the columns of the output matrix are powers of the input vector.\n",
    "The order of the powers is determined by the increasing boolean argument. Specifically, when\n",
    "increasing is False, the i-th output column is the input vector raised element-wise to the power\n",
    "of N - i - 1.\n",
    "\n",
    "\n",
    "def vandermonde_matrix(listt,no_of_columns,is_increasing):\n",
    "    out=[]\n",
    "    for ele in listt:\n",
    "        temp_list=[]\n",
    "        if(is_increasing):\n",
    "            for i in range(n):\n",
    "                temp_list.append(ele**i)\n",
    "            out.append(temp_list)\n",
    "        else:\n",
    "            for i in range(n-1,-1,-1):\n",
    "                temp_list.append(ele**i)\n",
    "            out.append(temp_list)\n",
    "    return out\n",
    "l=[1,5,7,9]\n",
    "n=3\n",
    "print(vandermonde_matrix(l,n,True))\n",
    "print(vandermonde_matrix(l,n,False))"
   ]
  },
  {
   "cell_type": "code",
   "execution_count": null,
   "metadata": {},
   "outputs": [],
   "source": []
  }
 ],
 "metadata": {
  "kernelspec": {
   "display_name": "Python 3",
   "language": "python",
   "name": "python3"
  },
  "language_info": {
   "codemirror_mode": {
    "name": "ipython",
    "version": 3
   },
   "file_extension": ".py",
   "mimetype": "text/x-python",
   "name": "python",
   "nbconvert_exporter": "python",
   "pygments_lexer": "ipython3",
   "version": "3.7.3"
  }
 },
 "nbformat": 4,
 "nbformat_minor": 2
}
